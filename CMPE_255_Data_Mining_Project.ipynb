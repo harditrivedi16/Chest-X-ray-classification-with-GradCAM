{
  "nbformat": 4,
  "nbformat_minor": 0,
  "metadata": {
    "colab": {
      "provenance": [],
      "gpuType": "T4",
      "include_colab_link": true
    },
    "kernelspec": {
      "name": "python3",
      "display_name": "Python 3"
    },
    "language_info": {
      "name": "python"
    },
    "accelerator": "GPU"
  },
  "cells": [
    {
      "cell_type": "markdown",
      "metadata": {
        "id": "view-in-github",
        "colab_type": "text"
      },
      "source": [
        "<a href=\"https://colab.research.google.com/github/harditrivedi16/Chest-X-ray-classification-with-GradCAM/blob/main/CMPE_255_Data_Mining_Project.ipynb\" target=\"_parent\"><img src=\"https://colab.research.google.com/assets/colab-badge.svg\" alt=\"Open In Colab\"/></a>"
      ]
    },
    {
      "cell_type": "markdown",
      "source": [
        "# CMPE 255: Data Mining Project\n",
        "# Smart Energy Advisor: A Data-Driven Approach to Household Energy Conservation\n"
      ],
      "metadata": {
        "id": "oBEsTrJ9va-f"
      }
    },
    {
      "cell_type": "markdown",
      "source": [
        "### Importing Libraries"
      ],
      "metadata": {
        "id": "6Uo-Cx6SvoDa"
      }
    },
    {
      "cell_type": "code",
      "execution_count": null,
      "metadata": {
        "id": "FlEKPiVVsY-X"
      },
      "outputs": [],
      "source": [
        "import pandas as pd\n",
        "import zipfile\n",
        "import os\n"
      ]
    },
    {
      "cell_type": "markdown",
      "source": [
        "### Loading Dataset and Data Preprocessing"
      ],
      "metadata": {
        "id": "7PKF6zb7vufP"
      }
    },
    {
      "cell_type": "code",
      "source": [
        "df = pd.read_csv(\"/content/drive/Shareddrives/CMPE_255_Dataset/household_power_consumption.txt\", sep=';', parse_dates={'Datetime': ['Date', 'Time']},\n",
        "                 infer_datetime_format=True, na_values=['?'])\n",
        "\n",
        "df.dropna(inplace=True)"
      ],
      "metadata": {
        "id": "H_Zits8HtaeV"
      },
      "execution_count": null,
      "outputs": []
    },
    {
      "cell_type": "code",
      "source": [
        "def add_time_features(df):\n",
        "    df['year'] = df['Datetime'].dt.year\n",
        "    df['month'] = df['Datetime'].dt.month\n",
        "    df['day'] = df['Datetime'].dt.day\n",
        "    df['hour'] = df['Datetime'].dt.hour\n",
        "    df['day_of_week'] = df['Datetime'].dt.dayofweek\n",
        "    df['weekend'] = (df['day_of_week'] >= 5).astype(int)\n",
        "    return df\n",
        "\n",
        "# Apply feature engineering to the dataset\n",
        "df = add_time_features(df)"
      ],
      "metadata": {
        "id": "deug3zb0trMI"
      },
      "execution_count": null,
      "outputs": []
    },
    {
      "cell_type": "markdown",
      "source": [
        "### Exploratory Data Analysis"
      ],
      "metadata": {
        "id": "HvnthhsWvyr4"
      }
    },
    {
      "cell_type": "code",
      "source": [],
      "metadata": {
        "id": "INYMeUNKtwTg"
      },
      "execution_count": null,
      "outputs": []
    },
    {
      "cell_type": "markdown",
      "source": [
        "### Clustering"
      ],
      "metadata": {
        "id": "dzUxOJqFv1m-"
      }
    },
    {
      "cell_type": "code",
      "source": [],
      "metadata": {
        "id": "-oNVl4JJuufN"
      },
      "execution_count": null,
      "outputs": []
    },
    {
      "cell_type": "markdown",
      "source": [
        "### Time - series Forecasting  "
      ],
      "metadata": {
        "id": "FqmhsLJiv4_7"
      }
    },
    {
      "cell_type": "code",
      "source": [],
      "metadata": {
        "id": "E37yI-6iv9GM"
      },
      "execution_count": null,
      "outputs": []
    },
    {
      "cell_type": "markdown",
      "source": [
        "### Classification"
      ],
      "metadata": {
        "id": "dVmHXOa9v9jk"
      }
    },
    {
      "cell_type": "code",
      "source": [],
      "metadata": {
        "id": "Jsv6LQ0BwDX-"
      },
      "execution_count": null,
      "outputs": []
    }
  ]
}